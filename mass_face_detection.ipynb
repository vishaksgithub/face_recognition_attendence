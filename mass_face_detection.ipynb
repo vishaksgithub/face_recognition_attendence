{
 "cells": [
  {
   "cell_type": "code",
   "execution_count": 54,
   "metadata": {},
   "outputs": [],
   "source": [
    "import cv2"
   ]
  },
  {
   "cell_type": "code",
   "execution_count": 55,
   "metadata": {},
   "outputs": [],
   "source": [
    "import pandas as pd"
   ]
  },
  {
   "cell_type": "code",
   "execution_count": 56,
   "metadata": {},
   "outputs": [],
   "source": [
    "count = 0"
   ]
  },
  {
   "cell_type": "code",
   "execution_count": 57,
   "metadata": {},
   "outputs": [],
   "source": [
    "def scan_now(n):\n",
    "    face_cascade=cv2.CascadeClassifier(r'D:\\DL projects\\project_face_detection\\haarcascade_frontalface_alt.xml')\n",
    "    face_cascade\n",
    "    video=cv2.VideoCapture(0)\n",
    "    while True:\n",
    "        sucess,frame = video.read()\n",
    "\n",
    "        gray_frame = cv2.cvtColor(frame,cv2.COLOR_BGR2GRAY)\n",
    "        faces = face_cascade.detectMultiScale(gray_frame,scaleFactor=1.1,minNeighbors=10)\n",
    "\n",
    "        #print(len(faces))\n",
    "        array1=[]\n",
    "        array1.append(len(faces))\n",
    "        df=pd.DataFrame(array1,columns=['values'])\n",
    "\n",
    "        m=str(n)\n",
    "\n",
    "        for (x,y,w,h) in faces:\n",
    "            cv2.rectangle(frame,(x,y),(x+w,y+h),color=(0,0,255),thickness=3)\n",
    "            cv2.putText(frame,text='current attendence= ', org=(50,400),fontFace=cv2.FONT_HERSHEY_COMPLEX,fontScale=1,color=(255,0,0),thickness=4)\n",
    "            cv2.putText(frame,text=m,org=(400,400),fontFace=cv2.FONT_HERSHEY_COMPLEX,fontScale=1,color=(255,0,0),thickness=4)\n",
    "            cv2.putText(frame,text='THANK YOU, press esc (top left)',org=(50,450),fontFace=cv2.FONT_HERSHEY_COMPLEX,fontScale=1,color=(255,0,0),thickness=4)\n",
    "\n",
    "        cv2.imshow('press esc',frame)\n",
    "        if cv2.waitKey() & 0xFF ==27:\n",
    "          break\n",
    "    video.release()\n",
    "    cv2.destroyAllWindows()\n",
    "    x=0\n",
    "    x = df['values'].mode()[0]\n",
    "    return x\n",
    "\n",
    "    "
   ]
  },
  {
   "cell_type": "code",
   "execution_count": 59,
   "metadata": {},
   "outputs": [
    {
     "name": "stdout",
     "output_type": "stream",
     "text": [
      "current count: 2\n"
     ]
    }
   ],
   "source": [
    "x=scan_now(count)\n",
    "count=count+x\n",
    "print('current count:',count)\n"
   ]
  }
 ],
 "metadata": {
  "kernelspec": {
   "display_name": "Python 3",
   "language": "python",
   "name": "python3"
  },
  "language_info": {
   "codemirror_mode": {
    "name": "ipython",
    "version": 3
   },
   "file_extension": ".py",
   "mimetype": "text/x-python",
   "name": "python",
   "nbconvert_exporter": "python",
   "pygments_lexer": "ipython3",
   "version": "3.11.0"
  }
 },
 "nbformat": 4,
 "nbformat_minor": 2
}
